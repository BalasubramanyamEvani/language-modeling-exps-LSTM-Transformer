{
  "cells": [
    {
      "cell_type": "code",
      "execution_count": 1,
      "metadata": {
        "colab": {
          "base_uri": "https://localhost:8080/"
        },
        "id": "trCg3aAmTjvr",
        "outputId": "1f47b93d-d0d9-4de1-b925-7c40a39144b2"
      },
      "outputs": [
        {
          "name": "stdout",
          "output_type": "stream",
          "text": [
            "Looking in indexes: https://pypi.org/simple, https://us-python.pkg.dev/colab-wheels/public/simple/\n",
            "Requirement already satisfied: tensorflow in /usr/local/lib/python3.10/dist-packages (2.12.0)\n",
            "Requirement already satisfied: absl-py>=1.0.0 in /usr/local/lib/python3.10/dist-packages (from tensorflow) (1.4.0)\n",
            "Requirement already satisfied: astunparse>=1.6.0 in /usr/local/lib/python3.10/dist-packages (from tensorflow) (1.6.3)\n",
            "Requirement already satisfied: flatbuffers>=2.0 in /usr/local/lib/python3.10/dist-packages (from tensorflow) (23.3.3)\n",
            "Requirement already satisfied: gast<=0.4.0,>=0.2.1 in /usr/local/lib/python3.10/dist-packages (from tensorflow) (0.4.0)\n",
            "Requirement already satisfied: google-pasta>=0.1.1 in /usr/local/lib/python3.10/dist-packages (from tensorflow) (0.2.0)\n",
            "Requirement already satisfied: grpcio<2.0,>=1.24.3 in /usr/local/lib/python3.10/dist-packages (from tensorflow) (1.54.0)\n",
            "Requirement already satisfied: h5py>=2.9.0 in /usr/local/lib/python3.10/dist-packages (from tensorflow) (3.8.0)\n",
            "Requirement already satisfied: jax>=0.3.15 in /usr/local/lib/python3.10/dist-packages (from tensorflow) (0.3.25)\n",
            "Requirement already satisfied: keras<2.13,>=2.12.0 in /usr/local/lib/python3.10/dist-packages (from tensorflow) (2.12.0)\n",
            "Requirement already satisfied: libclang>=13.0.0 in /usr/local/lib/python3.10/dist-packages (from tensorflow) (16.0.0)\n",
            "Requirement already satisfied: numpy<1.24,>=1.22 in /usr/local/lib/python3.10/dist-packages (from tensorflow) (1.23.5)\n",
            "Requirement already satisfied: opt-einsum>=2.3.2 in /usr/local/lib/python3.10/dist-packages (from tensorflow) (3.3.0)\n",
            "Requirement already satisfied: packaging in /usr/local/lib/python3.10/dist-packages (from tensorflow) (23.1)\n",
            "Requirement already satisfied: protobuf!=4.21.0,!=4.21.1,!=4.21.2,!=4.21.3,!=4.21.4,!=4.21.5,<5.0.0dev,>=3.20.3 in /usr/local/lib/python3.10/dist-packages (from tensorflow) (3.20.3)\n",
            "Requirement already satisfied: setuptools in /usr/local/lib/python3.10/dist-packages (from tensorflow) (67.7.2)\n",
            "Requirement already satisfied: six>=1.12.0 in /usr/local/lib/python3.10/dist-packages (from tensorflow) (1.16.0)\n",
            "Requirement already satisfied: tensorboard<2.13,>=2.12 in /usr/local/lib/python3.10/dist-packages (from tensorflow) (2.12.2)\n",
            "Requirement already satisfied: tensorflow-estimator<2.13,>=2.12.0 in /usr/local/lib/python3.10/dist-packages (from tensorflow) (2.12.0)\n",
            "Requirement already satisfied: termcolor>=1.1.0 in /usr/local/lib/python3.10/dist-packages (from tensorflow) (2.3.0)\n",
            "Requirement already satisfied: typing-extensions>=3.6.6 in /usr/local/lib/python3.10/dist-packages (from tensorflow) (4.6.3)\n",
            "Requirement already satisfied: wrapt<1.15,>=1.11.0 in /usr/local/lib/python3.10/dist-packages (from tensorflow) (1.14.1)\n",
            "Requirement already satisfied: tensorflow-io-gcs-filesystem>=0.23.1 in /usr/local/lib/python3.10/dist-packages (from tensorflow) (0.32.0)\n",
            "Requirement already satisfied: wheel<1.0,>=0.23.0 in /usr/local/lib/python3.10/dist-packages (from astunparse>=1.6.0->tensorflow) (0.40.0)\n",
            "Requirement already satisfied: scipy>=1.5 in /usr/local/lib/python3.10/dist-packages (from jax>=0.3.15->tensorflow) (1.10.1)\n",
            "Requirement already satisfied: google-auth<3,>=1.6.3 in /usr/local/lib/python3.10/dist-packages (from tensorboard<2.13,>=2.12->tensorflow) (2.17.3)\n",
            "Requirement already satisfied: google-auth-oauthlib<1.1,>=0.5 in /usr/local/lib/python3.10/dist-packages (from tensorboard<2.13,>=2.12->tensorflow) (1.0.0)\n",
            "Requirement already satisfied: markdown>=2.6.8 in /usr/local/lib/python3.10/dist-packages (from tensorboard<2.13,>=2.12->tensorflow) (3.4.3)\n",
            "Requirement already satisfied: requests<3,>=2.21.0 in /usr/local/lib/python3.10/dist-packages (from tensorboard<2.13,>=2.12->tensorflow) (2.27.1)\n",
            "Requirement already satisfied: tensorboard-data-server<0.8.0,>=0.7.0 in /usr/local/lib/python3.10/dist-packages (from tensorboard<2.13,>=2.12->tensorflow) (0.7.0)\n",
            "Requirement already satisfied: tensorboard-plugin-wit>=1.6.0 in /usr/local/lib/python3.10/dist-packages (from tensorboard<2.13,>=2.12->tensorflow) (1.8.1)\n",
            "Requirement already satisfied: werkzeug>=1.0.1 in /usr/local/lib/python3.10/dist-packages (from tensorboard<2.13,>=2.12->tensorflow) (2.3.0)\n",
            "Requirement already satisfied: cachetools<6.0,>=2.0.0 in /usr/local/lib/python3.10/dist-packages (from google-auth<3,>=1.6.3->tensorboard<2.13,>=2.12->tensorflow) (5.3.0)\n",
            "Requirement already satisfied: pyasn1-modules>=0.2.1 in /usr/local/lib/python3.10/dist-packages (from google-auth<3,>=1.6.3->tensorboard<2.13,>=2.12->tensorflow) (0.3.0)\n",
            "Requirement already satisfied: rsa<5,>=3.1.4 in /usr/local/lib/python3.10/dist-packages (from google-auth<3,>=1.6.3->tensorboard<2.13,>=2.12->tensorflow) (4.9)\n",
            "Requirement already satisfied: requests-oauthlib>=0.7.0 in /usr/local/lib/python3.10/dist-packages (from google-auth-oauthlib<1.1,>=0.5->tensorboard<2.13,>=2.12->tensorflow) (1.3.1)\n",
            "Requirement already satisfied: urllib3<1.27,>=1.21.1 in /usr/local/lib/python3.10/dist-packages (from requests<3,>=2.21.0->tensorboard<2.13,>=2.12->tensorflow) (1.26.15)\n",
            "Requirement already satisfied: certifi>=2017.4.17 in /usr/local/lib/python3.10/dist-packages (from requests<3,>=2.21.0->tensorboard<2.13,>=2.12->tensorflow) (2022.12.7)\n",
            "Requirement already satisfied: charset-normalizer~=2.0.0 in /usr/local/lib/python3.10/dist-packages (from requests<3,>=2.21.0->tensorboard<2.13,>=2.12->tensorflow) (2.0.12)\n",
            "Requirement already satisfied: idna<4,>=2.5 in /usr/local/lib/python3.10/dist-packages (from requests<3,>=2.21.0->tensorboard<2.13,>=2.12->tensorflow) (3.4)\n",
            "Requirement already satisfied: MarkupSafe>=2.1.1 in /usr/local/lib/python3.10/dist-packages (from werkzeug>=1.0.1->tensorboard<2.13,>=2.12->tensorflow) (2.1.2)\n",
            "Requirement already satisfied: pyasn1<0.6.0,>=0.4.6 in /usr/local/lib/python3.10/dist-packages (from pyasn1-modules>=0.2.1->google-auth<3,>=1.6.3->tensorboard<2.13,>=2.12->tensorflow) (0.5.0)\n",
            "Requirement already satisfied: oauthlib>=3.0.0 in /usr/local/lib/python3.10/dist-packages (from requests-oauthlib>=0.7.0->google-auth-oauthlib<1.1,>=0.5->tensorboard<2.13,>=2.12->tensorflow) (3.2.2)\n"
          ]
        }
      ],
      "source": [
        "# # Install tensorflow, instruction below should do that. Be sure that you are in your intended virtual environment\n",
        "!pip install tensorflow"
      ]
    },
    {
      "cell_type": "markdown",
      "metadata": {
        "id": "gAfArs5rW-9d"
      },
      "source": [
        "### I have used content from [Link](https://colab.research.google.com/github/tensorflow/tpu/blob/master/tools/colab/classification_iris_data_with_keras.ipynb#scrollTo=2xnX-NTsFQQa)\n",
        "\n",
        "to understand how to use TPU to run tf keras models"
      ]
    },
    {
      "cell_type": "code",
      "execution_count": 18,
      "metadata": {
        "id": "Yn37391hTjvs"
      },
      "outputs": [],
      "source": [
        "import numpy as np\n",
        "import tensorflow as tf\n",
        "import os"
      ]
    },
    {
      "cell_type": "code",
      "execution_count": 17,
      "metadata": {
        "colab": {
          "base_uri": "https://localhost:8080/"
        },
        "id": "2fl57YH_VMcr",
        "outputId": "fe3dee0b-705b-4c79-c40c-6d0a73b94a2b"
      },
      "outputs": [
        {
          "name": "stdout",
          "output_type": "stream",
          "text": [
            "2.12.0\n"
          ]
        },
        {
          "name": "stderr",
          "output_type": "stream",
          "text": [
            "<ipython-input-17-821088d430d8>:3: DeprecationWarning: distutils Version classes are deprecated. Use packaging.version instead.\n",
            "  if distutils.version.LooseVersion(tf.__version__) < '1.14':\n"
          ]
        }
      ],
      "source": [
        "print(tf.__version__)\n",
        "import distutils\n",
        "if distutils.version.LooseVersion(tf.__version__) < '1.14':\n",
        "    raise Exception('This notebook is compatible with TensorFlow 1.14 or higher, for TensorFlow 1.13 or lower please use the previous version at https://github.com/tensorflow/tpu/blob/r1.13/tools/colab/classification_iris_data_with_keras.ipynb')"
      ]
    },
    {
      "cell_type": "code",
      "execution_count": 19,
      "metadata": {
        "id": "kAI74AUlVU9v"
      },
      "outputs": [],
      "source": [
        "use_tpu = True\n",
        "\n",
        "if use_tpu:\n",
        "    assert \"COLAB_TPU_ADDR\" in os.environ, \"Missing TPU; did you request a TPU in Notebook Settings?\"\n",
        "\n",
        "if \"COLAB_TPU_ADDR\" in os.environ:\n",
        "  TF_MASTER = \"grpc://{}\".format(os.environ[\"COLAB_TPU_ADDR\"])\n",
        "else:\n",
        "  TF_MASTER=\"\""
      ]
    },
    {
      "cell_type": "code",
      "execution_count": 20,
      "metadata": {
        "id": "EYf-NQQLVlgR"
      },
      "outputs": [],
      "source": [
        "# TPU address\n",
        "tpu_address = TF_MASTER"
      ]
    },
    {
      "cell_type": "code",
      "execution_count": 21,
      "metadata": {
        "colab": {
          "base_uri": "https://localhost:8080/",
          "height": 35
        },
        "id": "o7ZMP7W7VmS2",
        "outputId": "1587d8e7-e2f3-41fa-89d8-3ca308b7d99f"
      },
      "outputs": [
        {
          "data": {
            "application/vnd.google.colaboratory.intrinsic+json": {
              "type": "string"
            },
            "text/plain": [
              "'grpc://10.80.220.34:8470'"
            ]
          },
          "execution_count": 21,
          "metadata": {},
          "output_type": "execute_result"
        }
      ],
      "source": [
        "tpu_address"
      ]
    },
    {
      "cell_type": "code",
      "execution_count": 3,
      "metadata": {
        "id": "ZmE0bI66Tjvs"
      },
      "outputs": [],
      "source": [
        "# Useful pieces\n",
        "Tokenizer = tf.keras.preprocessing.text.Tokenizer\n",
        "pad_sequences = tf.keras.preprocessing.sequence.pad_sequences\n",
        "Sequential = tf.keras.models.Sequential\n",
        "Embedding = tf.keras.layers.Embedding\n",
        "SimpleRNN = tf.keras.layers.SimpleRNN\n",
        "Dense = tf.keras.layers.Dense\n",
        "LSTM = tf.keras.layers.LSTM\n",
        "Dropout = tf.keras.layers.Dropout"
      ]
    },
    {
      "cell_type": "code",
      "execution_count": 4,
      "metadata": {
        "id": "91gpp8tNTjvt"
      },
      "outputs": [],
      "source": [
        "# Load in data from data.py\n",
        "from data import text_data_arr"
      ]
    },
    {
      "cell_type": "code",
      "execution_count": 5,
      "metadata": {
        "id": "yp5oxdU0Tjvt"
      },
      "outputs": [],
      "source": [
        "# Tokenize the text at the character level\n",
        "tokenizer = Tokenizer(\n",
        "    num_words=None,\n",
        "    filters='!\"#$%&()*+,-./:;<=>?@[\\\\]^_`{|}~\\t\\n',\n",
        "    lower=True,\n",
        "    split=' ',\n",
        "    char_level=True,\n",
        "    oov_token=None,\n",
        "    analyzer=None\n",
        ")"
      ]
    },
    {
      "cell_type": "code",
      "execution_count": 41,
      "metadata": {
        "id": "27DVA8szTjvt"
      },
      "outputs": [],
      "source": [
        "# Convert text to sequences (use the tokenizer)\n",
        "tokenizer.fit_on_texts(text_data_arr)\n",
        "sequence = tokenizer.texts_to_sequences(text_data_arr)[0] # change for Q1"
      ]
    },
    {
      "cell_type": "code",
      "execution_count": 42,
      "metadata": {
        "id": "09Jm-roYTjvt"
      },
      "outputs": [],
      "source": [
        "# Prepare input and output (target) sequences\n",
        "input_sequences = []\n",
        "\n",
        "output_sequences = []\n",
        "sequence_length = 100\n",
        "\n",
        "curr_seq_len = len(sequence)\n",
        "start = 0\n",
        "while start + sequence_length < curr_seq_len:\n",
        "  end = start + sequence_length\n",
        "  input_sequences.append(sequence[start: end])\n",
        "  output_sequences.append(sequence[end])\n",
        "  start += 1\n",
        "\n",
        "input_sequences = tf.convert_to_tensor(pad_sequences(input_sequences, maxlen=sequence_length))\n",
        "output_sequences = tf.convert_to_tensor(output_sequences, dtype=tf.int32)"
      ]
    },
    {
      "cell_type": "code",
      "execution_count": 43,
      "metadata": {
        "id": "-AbR71H8g2ys"
      },
      "outputs": [],
      "source": [
        "assert isinstance(input_sequences, tf.Tensor)\n",
        "assert isinstance(output_sequences, tf.Tensor)\n",
        "assert len(input_sequences) == len(output_sequences)"
      ]
    },
    {
      "cell_type": "code",
      "execution_count": 44,
      "metadata": {
        "colab": {
          "base_uri": "https://localhost:8080/"
        },
        "id": "1RiS4VzCUXAV",
        "outputId": "d3dc8b42-8408-491f-eb05-8a0857e4b570"
      },
      "outputs": [
        {
          "data": {
            "text/plain": [
              "876"
            ]
          },
          "execution_count": 44,
          "metadata": {},
          "output_type": "execute_result"
        }
      ],
      "source": [
        "len(input_sequences)"
      ]
    },
    {
      "cell_type": "code",
      "execution_count": 45,
      "metadata": {
        "id": "WgxeCmAiTjvt"
      },
      "outputs": [],
      "source": [
        "# set vocab_size based on tokenizer\n",
        "vocab_size = len(tokenizer.word_index) + 1 # +1 for padding"
      ]
    },
    {
      "cell_type": "code",
      "execution_count": 46,
      "metadata": {
        "id": "4PruwStLTjvt"
      },
      "outputs": [],
      "source": [
        "# Define the model architecture - 4 layers as described below\n",
        "def create_model():\n",
        "  return Sequential([\n",
        "      # Embedding layer - dependent on vocab_size and sequence_length\n",
        "      Embedding(input_length=sequence_length, input_dim=vocab_size, output_dim=32),\n",
        "      # LSTM Layer - set size to 128, return sequences, and dropout and recurrent_dropout to .2,\n",
        "      LSTM(units=128, return_sequences=True, dropout=0.2, recurrent_dropout=0.2),\n",
        "      # LSTM Layer - set size to 128, dropout and recurrent_dropout to .2,\n",
        "      LSTM(units=128, dropout=0.2, recurrent_dropout=0.2),\n",
        "      # Dense Layer - dependent on vocab_size, activation is softmax\n",
        "      Dense(units=vocab_size, activation=\"softmax\"),\n",
        "  ])"
      ]
    },
    {
      "cell_type": "code",
      "execution_count": 47,
      "metadata": {
        "colab": {
          "base_uri": "https://localhost:8080/"
        },
        "id": "0Xv-td9WVrsn",
        "outputId": "2c94efa7-e73f-4628-9cef-ea3123227c65"
      },
      "outputs": [
        {
          "name": "stderr",
          "output_type": "stream",
          "text": [
            "WARNING:tensorflow:TPU system grpc://10.80.220.34:8470 has already been initialized. Reinitializing the TPU can cause previously created variables on TPU to be lost.\n"
          ]
        }
      ],
      "source": [
        "resolver = tf.distribute.cluster_resolver.TPUClusterResolver(TF_MASTER)\n",
        "tf.config.experimental_connect_to_cluster(resolver)\n",
        "tf.tpu.experimental.initialize_tpu_system(resolver)\n",
        "strategy = tf.distribute.TPUStrategy(resolver)"
      ]
    },
    {
      "cell_type": "code",
      "execution_count": 48,
      "metadata": {
        "colab": {
          "base_uri": "https://localhost:8080/"
        },
        "id": "yLKnHmYATjvt",
        "outputId": "e2840ee8-0936-483f-b768-6c6614da803f"
      },
      "outputs": [
        {
          "name": "stdout",
          "output_type": "stream",
          "text": [
            "Model: \"sequential_5\"\n",
            "_________________________________________________________________\n",
            " Layer (type)                Output Shape              Param #   \n",
            "=================================================================\n",
            " embedding_5 (Embedding)     (None, 100, 32)           1280      \n",
            "                                                                 \n",
            " lstm_10 (LSTM)              (None, 100, 128)          82432     \n",
            "                                                                 \n",
            " lstm_11 (LSTM)              (None, 128)               131584    \n",
            "                                                                 \n",
            " dense_5 (Dense)             (None, 40)                5160      \n",
            "                                                                 \n",
            "=================================================================\n",
            "Total params: 220,456\n",
            "Trainable params: 220,456\n",
            "Non-trainable params: 0\n",
            "_________________________________________________________________\n"
          ]
        }
      ],
      "source": [
        "with strategy.scope():\n",
        "  model = create_model()\n",
        "  model.compile(loss=\"sparse_categorical_crossentropy\", optimizer=\"adam\", metrics=[\"accuracy\"])\n",
        "\n",
        "model.summary()"
      ]
    },
    {
      "cell_type": "markdown",
      "metadata": {
        "id": "qyD5yt6lTjvu"
      },
      "source": [
        "Model: \"sequential\"\n",
        "_________________________________________________________________\n",
        " Layer (type)                Output Shape              Param #\n",
        "=================================================================\n",
        " embedding (Embedding)       (None, 100, 32)           1280\n",
        "\n",
        " lstm (LSTM)                 (None, 100, 128)          82432\n",
        "\n",
        " lstm_1 (LSTM)               (None, 128)               131584\n",
        "\n",
        " dense (Dense)               (None, 40)                5160\n",
        "\n",
        "=================================================================\n",
        "Total params: 220,456\n",
        "Trainable params: 220,456\n",
        "Non-trainable params: 0\n",
        "_________________________________________________________________"
      ]
    },
    {
      "cell_type": "code",
      "execution_count": 49,
      "metadata": {
        "colab": {
          "base_uri": "https://localhost:8080/"
        },
        "id": "aoKuBfSUTjvu",
        "outputId": "bc185d1f-83ec-4b27-b11b-3607f960c24a"
      },
      "outputs": [
        {
          "name": "stdout",
          "output_type": "stream",
          "text": [
            "Epoch 1/100\n",
            "28/28 [==============================] - 19s 246ms/step - loss: 3.2967 - accuracy: 0.1678\n",
            "Epoch 2/100\n",
            "28/28 [==============================] - 1s 38ms/step - loss: 3.0100 - accuracy: 0.1895\n",
            "Epoch 3/100\n",
            "28/28 [==============================] - 1s 38ms/step - loss: 2.9848 - accuracy: 0.1895\n",
            "Epoch 4/100\n",
            "28/28 [==============================] - 1s 37ms/step - loss: 2.9737 - accuracy: 0.1895\n",
            "Epoch 5/100\n",
            "28/28 [==============================] - 1s 37ms/step - loss: 2.9758 - accuracy: 0.1895\n",
            "Epoch 6/100\n",
            "28/28 [==============================] - 1s 38ms/step - loss: 2.9736 - accuracy: 0.1895\n",
            "Epoch 7/100\n",
            "28/28 [==============================] - 1s 37ms/step - loss: 2.9665 - accuracy: 0.1895\n",
            "Epoch 8/100\n",
            "28/28 [==============================] - 1s 38ms/step - loss: 2.9632 - accuracy: 0.1895\n",
            "Epoch 9/100\n",
            "28/28 [==============================] - 1s 37ms/step - loss: 2.9381 - accuracy: 0.1895\n",
            "Epoch 10/100\n",
            "28/28 [==============================] - 1s 39ms/step - loss: 2.8820 - accuracy: 0.2100\n",
            "Epoch 11/100\n",
            "28/28 [==============================] - 1s 37ms/step - loss: 2.8214 - accuracy: 0.2283\n",
            "Epoch 12/100\n",
            "28/28 [==============================] - 1s 38ms/step - loss: 2.7401 - accuracy: 0.2397\n",
            "Epoch 13/100\n",
            "28/28 [==============================] - 1s 38ms/step - loss: 2.6806 - accuracy: 0.2591\n",
            "Epoch 14/100\n",
            "28/28 [==============================] - 1s 38ms/step - loss: 2.6194 - accuracy: 0.2797\n",
            "Epoch 15/100\n",
            "28/28 [==============================] - 1s 38ms/step - loss: 2.5784 - accuracy: 0.2751\n",
            "Epoch 16/100\n",
            "28/28 [==============================] - 1s 38ms/step - loss: 2.5349 - accuracy: 0.2968\n",
            "Epoch 17/100\n",
            "28/28 [==============================] - 1s 37ms/step - loss: 2.4902 - accuracy: 0.2842\n",
            "Epoch 18/100\n",
            "28/28 [==============================] - 1s 38ms/step - loss: 2.4319 - accuracy: 0.2968\n",
            "Epoch 19/100\n",
            "28/28 [==============================] - 1s 39ms/step - loss: 2.3834 - accuracy: 0.3037\n",
            "Epoch 20/100\n",
            "28/28 [==============================] - 1s 38ms/step - loss: 2.3512 - accuracy: 0.3231\n",
            "Epoch 21/100\n",
            "28/28 [==============================] - 1s 38ms/step - loss: 2.2871 - accuracy: 0.3311\n",
            "Epoch 22/100\n",
            "28/28 [==============================] - 1s 37ms/step - loss: 2.2560 - accuracy: 0.3436\n",
            "Epoch 23/100\n",
            "28/28 [==============================] - 1s 38ms/step - loss: 2.2090 - accuracy: 0.3482\n",
            "Epoch 24/100\n",
            "28/28 [==============================] - 1s 38ms/step - loss: 2.1663 - accuracy: 0.3630\n",
            "Epoch 25/100\n",
            "28/28 [==============================] - 1s 38ms/step - loss: 2.1077 - accuracy: 0.3744\n",
            "Epoch 26/100\n",
            "28/28 [==============================] - 1s 38ms/step - loss: 2.0550 - accuracy: 0.3801\n",
            "Epoch 27/100\n",
            "28/28 [==============================] - 1s 38ms/step - loss: 2.0139 - accuracy: 0.4053\n",
            "Epoch 28/100\n",
            "28/28 [==============================] - 1s 38ms/step - loss: 1.9738 - accuracy: 0.4155\n",
            "Epoch 29/100\n",
            "28/28 [==============================] - 1s 38ms/step - loss: 1.9188 - accuracy: 0.4258\n",
            "Epoch 30/100\n",
            "28/28 [==============================] - 1s 38ms/step - loss: 1.8816 - accuracy: 0.4441\n",
            "Epoch 31/100\n",
            "28/28 [==============================] - 1s 37ms/step - loss: 1.8342 - accuracy: 0.4395\n",
            "Epoch 32/100\n",
            "28/28 [==============================] - 1s 38ms/step - loss: 1.7728 - accuracy: 0.4703\n",
            "Epoch 33/100\n",
            "28/28 [==============================] - 1s 39ms/step - loss: 1.7590 - accuracy: 0.4486\n",
            "Epoch 34/100\n",
            "28/28 [==============================] - 1s 39ms/step - loss: 1.6850 - accuracy: 0.4989\n",
            "Epoch 35/100\n",
            "28/28 [==============================] - 1s 38ms/step - loss: 1.6395 - accuracy: 0.4829\n",
            "Epoch 36/100\n",
            "28/28 [==============================] - 1s 38ms/step - loss: 1.5934 - accuracy: 0.5263\n",
            "Epoch 37/100\n",
            "28/28 [==============================] - 1s 39ms/step - loss: 1.5416 - accuracy: 0.5297\n",
            "Epoch 38/100\n",
            "28/28 [==============================] - 1s 38ms/step - loss: 1.5112 - accuracy: 0.5457\n",
            "Epoch 39/100\n",
            "28/28 [==============================] - 1s 38ms/step - loss: 1.4466 - accuracy: 0.5696\n",
            "Epoch 40/100\n",
            "28/28 [==============================] - 1s 38ms/step - loss: 1.4125 - accuracy: 0.5788\n",
            "Epoch 41/100\n",
            "28/28 [==============================] - 1s 39ms/step - loss: 1.3720 - accuracy: 0.5902\n",
            "Epoch 42/100\n",
            "28/28 [==============================] - 1s 38ms/step - loss: 1.3227 - accuracy: 0.6119\n",
            "Epoch 43/100\n",
            "28/28 [==============================] - 1s 38ms/step - loss: 1.2717 - accuracy: 0.6233\n",
            "Epoch 44/100\n",
            "28/28 [==============================] - 1s 38ms/step - loss: 1.2013 - accuracy: 0.6564\n",
            "Epoch 45/100\n",
            "28/28 [==============================] - 1s 38ms/step - loss: 1.1545 - accuracy: 0.6667\n",
            "Epoch 46/100\n",
            "28/28 [==============================] - 1s 39ms/step - loss: 1.1064 - accuracy: 0.6747\n",
            "Epoch 47/100\n",
            "28/28 [==============================] - 1s 46ms/step - loss: 1.0719 - accuracy: 0.7112\n",
            "Epoch 48/100\n",
            "28/28 [==============================] - 1s 44ms/step - loss: 1.0293 - accuracy: 0.6941\n",
            "Epoch 49/100\n",
            "28/28 [==============================] - 1s 43ms/step - loss: 0.9763 - accuracy: 0.7180\n",
            "Epoch 50/100\n",
            "28/28 [==============================] - 1s 39ms/step - loss: 0.9577 - accuracy: 0.7352\n",
            "Epoch 51/100\n",
            "28/28 [==============================] - 1s 38ms/step - loss: 0.9297 - accuracy: 0.7432\n",
            "Epoch 52/100\n",
            "28/28 [==============================] - 1s 38ms/step - loss: 0.8803 - accuracy: 0.7717\n",
            "Epoch 53/100\n",
            "28/28 [==============================] - 1s 37ms/step - loss: 0.8183 - accuracy: 0.7728\n",
            "Epoch 54/100\n",
            "28/28 [==============================] - 1s 39ms/step - loss: 0.8001 - accuracy: 0.7797\n",
            "Epoch 55/100\n",
            "28/28 [==============================] - 1s 38ms/step - loss: 0.7654 - accuracy: 0.8037\n",
            "Epoch 56/100\n",
            "28/28 [==============================] - 1s 38ms/step - loss: 0.7249 - accuracy: 0.8208\n",
            "Epoch 57/100\n",
            "28/28 [==============================] - 1s 38ms/step - loss: 0.6764 - accuracy: 0.8402\n",
            "Epoch 58/100\n",
            "28/28 [==============================] - 1s 39ms/step - loss: 0.6455 - accuracy: 0.8447\n",
            "Epoch 59/100\n",
            "28/28 [==============================] - 1s 37ms/step - loss: 0.6324 - accuracy: 0.8584\n",
            "Epoch 60/100\n",
            "28/28 [==============================] - 1s 37ms/step - loss: 0.5958 - accuracy: 0.8767\n",
            "Epoch 61/100\n",
            "28/28 [==============================] - 1s 37ms/step - loss: 0.5466 - accuracy: 0.8676\n",
            "Epoch 62/100\n",
            "28/28 [==============================] - 1s 38ms/step - loss: 0.5352 - accuracy: 0.8893\n",
            "Epoch 63/100\n",
            "28/28 [==============================] - 1s 39ms/step - loss: 0.4994 - accuracy: 0.9087\n",
            "Epoch 64/100\n",
            "28/28 [==============================] - 1s 38ms/step - loss: 0.4829 - accuracy: 0.8973\n",
            "Epoch 65/100\n",
            "28/28 [==============================] - 1s 38ms/step - loss: 0.4453 - accuracy: 0.9178\n",
            "Epoch 66/100\n",
            "28/28 [==============================] - 1s 38ms/step - loss: 0.4306 - accuracy: 0.9258\n",
            "Epoch 67/100\n",
            "28/28 [==============================] - 1s 39ms/step - loss: 0.4145 - accuracy: 0.9224\n",
            "Epoch 68/100\n",
            "28/28 [==============================] - 1s 38ms/step - loss: 0.3949 - accuracy: 0.9326\n",
            "Epoch 69/100\n",
            "28/28 [==============================] - 1s 38ms/step - loss: 0.3705 - accuracy: 0.9326\n",
            "Epoch 70/100\n",
            "28/28 [==============================] - 1s 38ms/step - loss: 0.3539 - accuracy: 0.9349\n",
            "Epoch 71/100\n",
            "28/28 [==============================] - 1s 39ms/step - loss: 0.3507 - accuracy: 0.9441\n",
            "Epoch 72/100\n",
            "28/28 [==============================] - 1s 38ms/step - loss: 0.3207 - accuracy: 0.9532\n",
            "Epoch 73/100\n",
            "28/28 [==============================] - 1s 37ms/step - loss: 0.2986 - accuracy: 0.9703\n",
            "Epoch 74/100\n",
            "28/28 [==============================] - 1s 38ms/step - loss: 0.2728 - accuracy: 0.9623\n",
            "Epoch 75/100\n",
            "28/28 [==============================] - 1s 37ms/step - loss: 0.2720 - accuracy: 0.9623\n",
            "Epoch 76/100\n",
            "28/28 [==============================] - 1s 39ms/step - loss: 0.2613 - accuracy: 0.9646\n",
            "Epoch 77/100\n",
            "28/28 [==============================] - 1s 38ms/step - loss: 0.2465 - accuracy: 0.9749\n",
            "Epoch 78/100\n",
            "28/28 [==============================] - 1s 38ms/step - loss: 0.2397 - accuracy: 0.9760\n",
            "Epoch 79/100\n",
            "28/28 [==============================] - 1s 38ms/step - loss: 0.2313 - accuracy: 0.9726\n",
            "Epoch 80/100\n",
            "28/28 [==============================] - 1s 39ms/step - loss: 0.2167 - accuracy: 0.9817\n",
            "Epoch 81/100\n",
            "28/28 [==============================] - 1s 38ms/step - loss: 0.2053 - accuracy: 0.9806\n",
            "Epoch 82/100\n",
            "28/28 [==============================] - 1s 38ms/step - loss: 0.2003 - accuracy: 0.9817\n",
            "Epoch 83/100\n",
            "28/28 [==============================] - 1s 38ms/step - loss: 0.1860 - accuracy: 0.9909\n",
            "Epoch 84/100\n",
            "28/28 [==============================] - 1s 37ms/step - loss: 0.1744 - accuracy: 0.9840\n",
            "Epoch 85/100\n",
            "28/28 [==============================] - 1s 39ms/step - loss: 0.1646 - accuracy: 0.9886\n",
            "Epoch 86/100\n",
            "28/28 [==============================] - 1s 38ms/step - loss: 0.1542 - accuracy: 0.9920\n",
            "Epoch 87/100\n",
            "28/28 [==============================] - 1s 37ms/step - loss: 0.1548 - accuracy: 0.9852\n",
            "Epoch 88/100\n",
            "28/28 [==============================] - 1s 37ms/step - loss: 0.1785 - accuracy: 0.9829\n",
            "Epoch 89/100\n",
            "28/28 [==============================] - 1s 39ms/step - loss: 0.1546 - accuracy: 0.9886\n",
            "Epoch 90/100\n",
            "28/28 [==============================] - 1s 37ms/step - loss: 0.1425 - accuracy: 0.9909\n",
            "Epoch 91/100\n",
            "28/28 [==============================] - 1s 38ms/step - loss: 0.1373 - accuracy: 0.9920\n",
            "Epoch 92/100\n",
            "28/28 [==============================] - 1s 38ms/step - loss: 0.1223 - accuracy: 0.9977\n",
            "Epoch 93/100\n",
            "28/28 [==============================] - 1s 38ms/step - loss: 0.1262 - accuracy: 0.9897\n",
            "Epoch 94/100\n",
            "28/28 [==============================] - 1s 39ms/step - loss: 0.1236 - accuracy: 0.9863\n",
            "Epoch 95/100\n",
            "28/28 [==============================] - 1s 38ms/step - loss: 0.1162 - accuracy: 0.9943\n",
            "Epoch 96/100\n",
            "28/28 [==============================] - 1s 38ms/step - loss: 0.1053 - accuracy: 0.9954\n",
            "Epoch 97/100\n",
            "28/28 [==============================] - 1s 37ms/step - loss: 0.1029 - accuracy: 0.9966\n",
            "Epoch 98/100\n",
            "28/28 [==============================] - 1s 39ms/step - loss: 0.0947 - accuracy: 0.9977\n",
            "Epoch 99/100\n",
            "28/28 [==============================] - 1s 38ms/step - loss: 0.0956 - accuracy: 0.9932\n",
            "Epoch 100/100\n",
            "28/28 [==============================] - 1s 39ms/step - loss: 0.0915 - accuracy: 0.9966\n"
          ]
        },
        {
          "data": {
            "text/plain": [
              "<keras.callbacks.History at 0x7f0a076128c0>"
            ]
          },
          "execution_count": 49,
          "metadata": {},
          "output_type": "execute_result"
        }
      ],
      "source": [
        "# Train the model\n",
        "epochs = 100\n",
        "batch_size = 32\n",
        "\n",
        "model.fit(input_sequences, output_sequences, epochs=epochs, batch_size=batch_size)"
      ]
    },
    {
      "cell_type": "code",
      "execution_count": 50,
      "metadata": {
        "id": "Zvj81gzVP_yr"
      },
      "outputs": [],
      "source": [
        "model.save_weights(\"model_weights.h5\")"
      ]
    },
    {
      "cell_type": "code",
      "execution_count": 51,
      "metadata": {
        "id": "_LwWVmCyTjvu"
      },
      "outputs": [],
      "source": [
        "# Genereate Text\n",
        "def generate_text(seed_text, model, tokenizer, sequence_length, num_chars_to_generate):\n",
        "    generated_text = seed_text\n",
        "    for _ in range(num_chars_to_generate):\n",
        "        # create a token_list from your generated text, be sure to pad the sequences\n",
        "        token_list = tokenizer.texts_to_sequences([generated_text])\n",
        "        token_list = pad_sequences(token_list, maxlen=sequence_length)\n",
        "\n",
        "        # predict the probabilities of each token\n",
        "        predicted_probs = model.predict(token_list)\n",
        "        predicted_probs = predicted_probs[0]\n",
        "\n",
        "        # get the predicted token by finding the index of with the highest probability\n",
        "        predicted_token_index = tf.math.argmax(predicted_probs)\n",
        "        output_letter = \"\"\n",
        "        for letter, index in tokenizer.word_index.items():\n",
        "            # get the letter which corresponds to the predicted_token\n",
        "            if index == predicted_token_index:\n",
        "              output_letter = letter\n",
        "              break\n",
        "        generated_text += output_letter\n",
        "    return generated_text"
      ]
    },
    {
      "cell_type": "code",
      "execution_count": 52,
      "metadata": {
        "id": "uaT_fyRsTjvv"
      },
      "outputs": [],
      "source": [
        "seed_text = \"John: How are you, Sarah?\""
      ]
    },
    {
      "cell_type": "code",
      "execution_count": 53,
      "metadata": {
        "colab": {
          "base_uri": "https://localhost:8080/"
        },
        "id": "RsuS3NTeTjvv",
        "outputId": "3b881590-1fe3-4461-c00c-04c156ca86b1"
      },
      "outputs": [
        {
          "name": "stdout",
          "output_type": "stream",
          "text": [
            "1/1 [==============================] - 2s 2s/step\n",
            "1/1 [==============================] - 1s 539ms/step\n",
            "1/1 [==============================] - 1s 539ms/step\n",
            "1/1 [==============================] - 1s 546ms/step\n",
            "1/1 [==============================] - 1s 929ms/step\n",
            "1/1 [==============================] - 1s 559ms/step\n",
            "1/1 [==============================] - 1s 658ms/step\n",
            "1/1 [==============================] - 1s 665ms/step\n",
            "1/1 [==============================] - 1s 668ms/step\n",
            "1/1 [==============================] - 1s 700ms/step\n",
            "1/1 [==============================] - 1s 719ms/step\n",
            "1/1 [==============================] - 1s 600ms/step\n",
            "1/1 [==============================] - 1s 537ms/step\n",
            "1/1 [==============================] - 1s 563ms/step\n",
            "1/1 [==============================] - 1s 532ms/step\n",
            "1/1 [==============================] - 1s 574ms/step\n",
            "1/1 [==============================] - 1s 538ms/step\n",
            "1/1 [==============================] - 1s 539ms/step\n",
            "1/1 [==============================] - 1s 573ms/step\n",
            "1/1 [==============================] - 1s 560ms/step\n",
            "1/1 [==============================] - 1s 531ms/step\n",
            "1/1 [==============================] - 1s 552ms/step\n",
            "1/1 [==============================] - 1s 526ms/step\n",
            "1/1 [==============================] - 1s 547ms/step\n",
            "1/1 [==============================] - 1s 528ms/step\n",
            "1/1 [==============================] - 1s 1s/step\n",
            "1/1 [==============================] - 1s 689ms/step\n",
            "1/1 [==============================] - 1s 670ms/step\n",
            "1/1 [==============================] - 1s 652ms/step\n",
            "1/1 [==============================] - 1s 717ms/step\n",
            "1/1 [==============================] - 1s 729ms/step\n",
            "1/1 [==============================] - 1s 539ms/step\n",
            "1/1 [==============================] - 1s 595ms/step\n",
            "1/1 [==============================] - 1s 536ms/step\n",
            "1/1 [==============================] - 1s 536ms/step\n",
            "1/1 [==============================] - 1s 550ms/step\n",
            "1/1 [==============================] - 1s 536ms/step\n",
            "1/1 [==============================] - 1s 538ms/step\n",
            "1/1 [==============================] - 1s 526ms/step\n",
            "1/1 [==============================] - 1s 530ms/step\n",
            "1/1 [==============================] - 1s 577ms/step\n",
            "1/1 [==============================] - 1s 543ms/step\n",
            "1/1 [==============================] - 1s 539ms/step\n",
            "1/1 [==============================] - 1s 537ms/step\n",
            "1/1 [==============================] - 1s 534ms/step\n",
            "1/1 [==============================] - 1s 526ms/step\n",
            "1/1 [==============================] - 1s 534ms/step\n",
            "1/1 [==============================] - 1s 1s/step\n",
            "1/1 [==============================] - 1s 688ms/step\n",
            "1/1 [==============================] - 1s 680ms/step\n",
            "1/1 [==============================] - 1s 681ms/step\n",
            "1/1 [==============================] - 1s 524ms/step\n",
            "1/1 [==============================] - 1s 529ms/step\n",
            "1/1 [==============================] - 1s 536ms/step\n",
            "1/1 [==============================] - 1s 557ms/step\n",
            "1/1 [==============================] - 1s 511ms/step\n",
            "1/1 [==============================] - 1s 534ms/step\n",
            "1/1 [==============================] - 1s 525ms/step\n",
            "1/1 [==============================] - 1s 533ms/step\n",
            "1/1 [==============================] - 1s 543ms/step\n",
            "1/1 [==============================] - 1s 532ms/step\n",
            "1/1 [==============================] - 1s 540ms/step\n",
            "1/1 [==============================] - 1s 568ms/step\n",
            "1/1 [==============================] - 1s 518ms/step\n",
            "1/1 [==============================] - 1s 525ms/step\n",
            "1/1 [==============================] - 1s 533ms/step\n",
            "1/1 [==============================] - 1s 526ms/step\n",
            "1/1 [==============================] - 1s 656ms/step\n",
            "1/1 [==============================] - 1s 694ms/step\n",
            "1/1 [==============================] - 1s 1s/step\n",
            "1/1 [==============================] - 1s 692ms/step\n",
            "1/1 [==============================] - 1s 550ms/step\n",
            "1/1 [==============================] - 1s 533ms/step\n",
            "1/1 [==============================] - 1s 570ms/step\n",
            "1/1 [==============================] - 1s 538ms/step\n",
            "1/1 [==============================] - 1s 560ms/step\n",
            "1/1 [==============================] - 1s 582ms/step\n",
            "1/1 [==============================] - 1s 537ms/step\n",
            "1/1 [==============================] - 1s 535ms/step\n",
            "1/1 [==============================] - 1s 546ms/step\n",
            "1/1 [==============================] - 1s 539ms/step\n",
            "1/1 [==============================] - 1s 550ms/step\n",
            "1/1 [==============================] - 1s 627ms/step\n",
            "1/1 [==============================] - 1s 529ms/step\n",
            "1/1 [==============================] - 1s 571ms/step\n",
            "1/1 [==============================] - 1s 543ms/step\n",
            "1/1 [==============================] - 1s 609ms/step\n",
            "1/1 [==============================] - 1s 651ms/step\n",
            "1/1 [==============================] - 1s 683ms/step\n",
            "1/1 [==============================] - 1s 1s/step\n",
            "1/1 [==============================] - 1s 617ms/step\n",
            "1/1 [==============================] - 1s 537ms/step\n",
            "1/1 [==============================] - 1s 535ms/step\n",
            "1/1 [==============================] - 1s 543ms/step\n",
            "1/1 [==============================] - 1s 537ms/step\n",
            "1/1 [==============================] - 1s 535ms/step\n",
            "1/1 [==============================] - 1s 548ms/step\n",
            "1/1 [==============================] - 1s 559ms/step\n",
            "1/1 [==============================] - 1s 527ms/step\n",
            "1/1 [==============================] - 1s 547ms/step\n",
            "John: How are you, Sarah? take care! been up to anything interesting lately? mike: actually, i went on a hiking trip last wee\n"
          ]
        }
      ],
      "source": [
        "generated_text = generate_text(seed_text, model, tokenizer, sequence_length, num_chars_to_generate=100)\n",
        "print(generated_text)"
      ]
    },
    {
      "cell_type": "code",
      "execution_count": null,
      "metadata": {
        "id": "IhqkdkbNTuho"
      },
      "outputs": [],
      "source": []
    }
  ],
  "metadata": {
    "accelerator": "TPU",
    "colab": {
      "gpuType": "T4",
      "provenance": []
    },
    "kernelspec": {
      "display_name": "Python 3",
      "name": "python3"
    },
    "language_info": {
      "codemirror_mode": {
        "name": "ipython",
        "version": 3
      },
      "file_extension": ".py",
      "mimetype": "text/x-python",
      "name": "python",
      "nbconvert_exporter": "python",
      "pygments_lexer": "ipython3",
      "version": "3.10.10"
    }
  },
  "nbformat": 4,
  "nbformat_minor": 0
}
